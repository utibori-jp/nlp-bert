{
 "cells": [
  {
   "cell_type": "markdown",
   "metadata": {},
   "source": [
    "# Co-occurrence-Network\n",
    "\n",
    "1. Overview\n",
    "    1. what is co-occurrence network\n",
    "    1. Purpose of making co-occurrence network\n",
    "    1. Explain all steps\n",
    "1. Prepartaion\n",
    "    1. Install mecab and dictionary\n",
    "    1. Import libraries\n",
    "1. Define functions\n",
    "    1. Wordstop\n",
    "    1. Word processing\n",
    "    1. Make co-occurrence network\n",
    "1. Get co-occurrence network\n",
    "\n"
   ]
  },
  {
   "cell_type": "markdown",
   "metadata": {},
   "source": [
    "## Preparation"
   ]
  },
  {
   "cell_type": "markdown",
   "metadata": {},
   "source": [
    "### Install MeCab and Dictionary\n",
    "On this notebook, I use MeCab for morphological analysis and NEologd as a dictionary. For using them, you need install Mecab and Dictionary before you import libarary\n",
    "before import libraries, you should install MeCab and Dictionary. On this notebook, we use neolog"
   ]
  },
  {
   "cell_type": "code",
   "execution_count": null,
   "metadata": {},
   "outputs": [],
   "source": [
    "# Z!apt-get -q -y install sudo file mecab libmecab-dev mecab-ipadic-utf8 git curl python-mecab > /dev/null\n",
    "# !git clone --depth 1 https://github.com/neologd/mecab-ipadic-neologd.git > /dev/null \n",
    "# !echo yes | mecab-ipadic-neologd/bin/install-mecab-ipadic-neologd -n > /dev/null 2>&1\n",
    "# !pip install mecab-python3 > /dev/null\n",
    "\n",
    "# # シンボリックリンクによるエラー回避\n",
    "# !ln -s /etc/mecabrc /usr/local/etc/mecabrc"
   ]
  },
  {
   "cell_type": "code",
   "execution_count": null,
   "metadata": {},
   "outputs": [],
   "source": [
    "print(\"ok\")"
   ]
  }
 ],
 "metadata": {
  "kernelspec": {
   "display_name": "Python 3.9.6 64-bit ('3.9.6')",
   "language": "python",
   "name": "python3"
  },
  "language_info": {
   "name": "python",
   "version": "3.9.6"
  },
  "orig_nbformat": 4,
  "vscode": {
   "interpreter": {
    "hash": "3f807b7300b1663f6fc8aa149c5cdf3fe88d8e800191e7f29541f421c4e54641"
   }
  }
 },
 "nbformat": 4,
 "nbformat_minor": 2
}
